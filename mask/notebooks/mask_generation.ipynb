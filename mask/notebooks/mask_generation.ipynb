{
 "cells": [
  {
   "cell_type": "markdown",
   "metadata": {},
   "source": [
    "Generate simple mask (vertical and horizontal)"
   ]
  },
  {
   "cell_type": "code",
   "execution_count": 1,
   "metadata": {},
   "outputs": [],
   "source": [
    "# Common import\n",
    "import numpy as np\n",
    "import skimage.io as io\n",
    "\n",
    "import scipy\n",
    "import scipy.io as sio\n",
    "from PIL import Image"
   ]
  },
  {
   "cell_type": "markdown",
   "metadata": {},
   "source": [
    "## Load the data"
   ]
  },
  {
   "cell_type": "code",
   "execution_count": 2,
   "metadata": {},
   "outputs": [],
   "source": [
    "# Files locations\n",
    "MASK_DIR = \"./data/mask\"\n",
    "save_name = \"hori.mat\""
   ]
  },
  {
   "cell_type": "code",
   "execution_count": 3,
   "metadata": {},
   "outputs": [],
   "source": [
    "# Property\n",
    "mask_type = 'hori'\n",
    "shape = (400, 400)"
   ]
  },
  {
   "cell_type": "code",
   "execution_count": 4,
   "metadata": {},
   "outputs": [],
   "source": [
    "# Vertical mask\n",
    "if mask_type == 'verti':\n",
    "    ar1 = np.ones((shape[0], shape[1]/2), dtype = np.uint8)\n",
    "    ar2 = np.zeros((shape[0], shape[1]/2), dtype = np.uint8)\n",
    "    mask = np.concatenate((ar1, ar2), axis=1)\n",
    "elif mask_type == 'hori':\n",
    "    ar1 = np.ones((shape[0]/2, shape[1]), dtype = np.uint8)\n",
    "    ar2 = np.zeros((shape[0]/2, shape[1]), dtype = np.uint8)\n",
    "    mask = np.concatenate((ar1, ar2), axis=0)"
   ]
  },
  {
   "cell_type": "markdown",
   "metadata": {},
   "source": [
    "## Save"
   ]
  },
  {
   "cell_type": "code",
   "execution_count": 5,
   "metadata": {},
   "outputs": [],
   "source": [
    "# Name of the file to save\n",
    "save_mask = MASK_DIR + '/' + save_name"
   ]
  },
  {
   "cell_type": "code",
   "execution_count": 6,
   "metadata": {},
   "outputs": [],
   "source": [
    "# Save mask to .mat\n",
    "mask_to_save = {}\n",
    "mask_to_save[\"S\"] = mask\n",
    "sio.savemat(save_mask, mask_to_save)"
   ]
  }
 ],
 "metadata": {
  "kernelspec": {
   "display_name": "Python 2",
   "language": "python",
   "name": "python2"
  },
  "language_info": {
   "codemirror_mode": {
    "name": "ipython",
    "version": 2
   },
   "file_extension": ".py",
   "mimetype": "text/x-python",
   "name": "python",
   "nbconvert_exporter": "python",
   "pygments_lexer": "ipython2",
   "version": "2.7.12"
  }
 },
 "nbformat": 4,
 "nbformat_minor": 2
}

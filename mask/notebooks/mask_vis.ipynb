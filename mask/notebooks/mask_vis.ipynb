{
 "cells": [
  {
   "cell_type": "markdown",
   "metadata": {},
   "source": [
    "Visualize the mask (manually)"
   ]
  },
  {
   "cell_type": "code",
   "execution_count": 1,
   "metadata": {},
   "outputs": [],
   "source": [
    "# Common import\n",
    "import numpy as np\n",
    "import skimage.io as io\n",
    "\n",
    "import scipy\n",
    "import scipy.io as sio\n",
    "from PIL import Image"
   ]
  },
  {
   "cell_type": "markdown",
   "metadata": {},
   "source": [
    "## Load the data"
   ]
  },
  {
   "cell_type": "code",
   "execution_count": 2,
   "metadata": {},
   "outputs": [],
   "source": [
    "# Files locations\n",
    "MASK_DIR = \"./data/mask\"\n",
    "SAVE_DIR = \"./data/visualisation\""
   ]
  },
  {
   "cell_type": "code",
   "execution_count": 3,
   "metadata": {},
   "outputs": [],
   "source": [
    "mask = \"elephant-res400.mat\"\n",
    "save_name = \"elephant\""
   ]
  },
  {
   "cell_type": "code",
   "execution_count": 4,
   "metadata": {},
   "outputs": [],
   "source": [
    "# Load annotations(.mat)\n",
    "mat_annotations = sio.loadmat(MASK_DIR + '/' + mask)\n",
    "mask = mat_annotations[\"S\"]"
   ]
  },
  {
   "cell_type": "markdown",
   "metadata": {},
   "source": [
    "## Mask visualisation"
   ]
  },
  {
   "cell_type": "code",
   "execution_count": 5,
   "metadata": {},
   "outputs": [
    {
     "data": {
      "text/plain": [
       "array([ 22,  37,  94, 150], dtype=uint8)"
      ]
     },
     "execution_count": 5,
     "metadata": {},
     "output_type": "execute_result"
    }
   ],
   "source": [
    "# The unique values represent the different semantic regions\n",
    "np.unique(mask)"
   ]
  },
  {
   "cell_type": "code",
   "execution_count": 6,
   "metadata": {
    "scrolled": false
   },
   "outputs": [],
   "source": [
    "obj1 = (mask == 37).astype(np.uint8)\n",
    "obj2 = (mask == 22).astype(np.uint8)\n",
    "obj3 = (mask == 150).astype(np.uint8)\n",
    "obj4 = (mask == 94).astype(np.uint8)"
   ]
  },
  {
   "cell_type": "markdown",
   "metadata": {},
   "source": [
    "## Initialisation mask"
   ]
  },
  {
   "cell_type": "code",
   "execution_count": 7,
   "metadata": {
    "scrolled": false
   },
   "outputs": [
    {
     "data": {
      "image/png": "[encoded data removed]",
      "text/plain": [
       "<matplotlib.figure.Figure at 0x7f5f6ba0d690>"
      ]
     },
     "metadata": {},
     "output_type": "display_data"
    }
   ],
   "source": [
    "# I chose the value randomly...\n",
    "channel1 = obj1 * 200 + obj3 * 80  + obj4 * 200\n",
    "channel2 = obj2 * 200 + obj4 * 130\n",
    "channel3 = obj1 * 200 + obj2 * 200 + obj3 * 200 + obj4 * 200\n",
    "\n",
    "image = np.stack((channel1, channel2, channel3), axis = 2)\n",
    "io.imshow(image)\n",
    "io.show()"
   ]
  },
  {
   "cell_type": "code",
   "execution_count": 8,
   "metadata": {},
   "outputs": [],
   "source": [
    "# Save the content image\n",
    "save_path = SAVE_DIR + '/' + save_name + \".png\"\n",
    "io.imsave(save_path, image)"
   ]
  }
 ],
 "metadata": {
  "kernelspec": {
   "display_name": "Python 2",
   "language": "python",
   "name": "python2"
  },
  "language_info": {
   "codemirror_mode": {
    "name": "ipython",
    "version": 2
   },
   "file_extension": ".py",
   "mimetype": "text/x-python",
   "name": "python",
   "nbconvert_exporter": "python",
   "pygments_lexer": "ipython2",
   "version": "2.7.12"
  }
 },
 "nbformat": 4,
 "nbformat_minor": 2
}
